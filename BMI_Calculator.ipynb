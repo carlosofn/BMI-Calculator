{
 "cells": [
  {
   "cell_type": "code",
   "execution_count": 15,
   "metadata": {},
   "outputs": [
    {
     "name": "stdout",
     "output_type": "stream",
     "text": [
      "23.528979591836734\n",
      "Carlos, you are normal weight.\n"
     ]
    }
   ],
   "source": [
    "name = input(\"Enter you name: \")\n",
    "weight = int(input(\"Enter your weight in pounds: \"))\n",
    "height = int(input(\"Enter your height in inches: \"))\n",
    "BMI = (weight * 703) / (height * height)\n",
    "print(BMI)\n",
    "if BMI>0:\n",
    "  if(BMI<18.5):\n",
    "    print(name + \", you are underweight.\")\n",
    "  elif (BMI<=24.9):\n",
    "    print(name + \", you are normal weight.\")\n",
    "  elif (BMI<29.9):\n",
    "    print(name + \", you are overweight.\")\n",
    "  elif (BMI<34.9):\n",
    "    print(name + \", you are obese.\")\n",
    "  elif (BMI<39.9):\n",
    "    print(name + \", you are severely obese.\")\n",
    "  else:\n",
    "    print(name + \", you are morbidly obese.\")\n",
    "else:\n",
    "  print(\"Enter valid input\")"
   ]
  },
  {
   "cell_type": "markdown",
   "metadata": {},
   "source": [
    "Under 18.5\tUnderweight\tMinimal\n",
    "18.5 - 24.9\tNormal Weight\tMinimal\n",
    "25 - 29.9\tOverweight\tIncreased\n",
    "30 - 34.9\tObese\tHigh\n",
    "35 - 39.9\tSeverely Obese\tVery High\n",
    "40 and over\tMorbidly Obese\tExtremely High"
   ]
  },
  {
   "cell_type": "markdown",
   "metadata": {},
   "source": [
    "if BMI>0:\n",
    "  if(BMI<18.5):\n",
    "    print(name + \", you are underweight.\")\n",
    "  elif (BMI<=24.9):\n",
    "    print(name + \", you are normal weight.\")\n",
    "  elif (BMI<29.9):\n",
    "    print(name + \", you are overweight.\")\n",
    "  elif (BMI<34.9):\n",
    "    print(name + \", you are obese.\")\n",
    "  elif (BMI<39.9):\n",
    "    print(name + \", you are severely obese.\")\n",
    "  else:\n",
    "    print(name + \", you are morbidly obese.\")\n",
    "else:\n",
    "  print(\"Enter valid input\")"
   ]
  }
 ],
 "metadata": {
  "kernelspec": {
   "display_name": "notebook",
   "language": "python",
   "name": "python3"
  },
  "language_info": {
   "codemirror_mode": {
    "name": "ipython",
    "version": 3
   },
   "file_extension": ".py",
   "mimetype": "text/x-python",
   "name": "python",
   "nbconvert_exporter": "python",
   "pygments_lexer": "ipython3",
   "version": "3.10.14"
  }
 },
 "nbformat": 4,
 "nbformat_minor": 2
}
